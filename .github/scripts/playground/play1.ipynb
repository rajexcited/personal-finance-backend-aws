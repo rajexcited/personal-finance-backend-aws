{
 "cells": [
  {
   "cell_type": "code",
   "execution_count": null,
   "id": "2fe806f1",
   "metadata": {},
   "outputs": [],
   "source": [
    "from pathlib import Path\n",
    "\n",
    "rootpath=Path(\"../../../\")\n",
    "\n",
    "print(\"rootpath=\",rootpath.resolve())"
   ]
  },
  {
   "cell_type": "code",
   "execution_count": null,
   "id": "16512f20",
   "metadata": {},
   "outputs": [],
   "source": [
    "def get_template_contents(relative_file_path:str):\n",
    "    req_template=None\n",
    "\n",
    "    with open(rootpath/relative_file_path, \"r\") as rf:\n",
    "        lines=rf.readlines()\n",
    "        req_template=\"\\n\".join(lines[7:])\n",
    "\n",
    "    # print(req_prd_template)\n",
    "    return req_template"
   ]
  },
  {
   "cell_type": "code",
   "execution_count": null,
   "id": "a9fb4497",
   "metadata": {},
   "outputs": [],
   "source": [
    "req_prd=get_template_contents(\".github/ISSUE_TEMPLATE/request_prod_environment.md\")\n",
    "req_prd"
   ]
  },
  {
   "cell_type": "code",
   "execution_count": null,
   "id": "5d132165",
   "metadata": {},
   "outputs": [],
   "source": [
    "req_tstpln=get_template_contents(\".github/ISSUE_TEMPLATE/request_testplan_environment.md\")\n",
    "req_tstpln"
   ]
  },
  {
   "cell_type": "code",
   "execution_count": null,
   "id": "8b2e7489",
   "metadata": {},
   "outputs": [],
   "source": [
    "from enum import Enum\n",
    "\n",
    "class RequestType(Enum):\n",
    "    Provision = \"provision\"\n",
    "    Deprovision = \"deprovision\"\n",
    "\n",
    "get_req_type = lambda x: RequestType[x] if x in RequestType.__members__ else RequestType(x)\n",
    "\n",
    "def get_enum(typ:type[Enum], v):\n",
    "    try:\n",
    "        if v in typ.__members__:\n",
    "            return typ[v]\n",
    "        return typ(v)\n",
    "    except:\n",
    "        return None\n"
   ]
  },
  {
   "cell_type": "code",
   "execution_count": null,
   "id": "18a5043a",
   "metadata": {},
   "outputs": [],
   "source": [
    "print(get_enum(RequestType, \"provisioN\"))"
   ]
  },
  {
   "cell_type": "code",
   "execution_count": null,
   "id": "ff74f1d6",
   "metadata": {},
   "outputs": [],
   "source": []
  }
 ],
 "metadata": {
  "kernelspec": {
   "display_name": "Python 3",
   "language": "python",
   "name": "python3"
  },
  "language_info": {
   "codemirror_mode": {
    "name": "ipython",
    "version": 3
   },
   "file_extension": ".py",
   "mimetype": "text/x-python",
   "name": "python",
   "nbconvert_exporter": "python",
   "pygments_lexer": "ipython3",
   "version": "3.11.9"
  }
 },
 "nbformat": 4,
 "nbformat_minor": 5
}
