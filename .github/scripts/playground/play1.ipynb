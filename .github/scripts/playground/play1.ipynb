{
 "cells": [
  {
   "cell_type": "code",
   "execution_count": null,
   "id": "2fe806f1",
   "metadata": {},
   "outputs": [],
   "source": [
    "from pathlib import Path\n",
    "\n",
    "rootpath=Path(\"../../../\")\n",
    "\n",
    "print(\"rootpath=\",rootpath.resolve())"
   ]
  },
  {
   "cell_type": "code",
   "execution_count": null,
   "id": "16512f20",
   "metadata": {},
   "outputs": [],
   "source": [
    "def get_template_contents(relative_file_path:str):\n",
    "    req_template=None\n",
    "\n",
    "    with open(rootpath/relative_file_path, \"r\") as rf:\n",
    "        lines=rf.readlines()\n",
    "        req_template=\"\\n\".join(lines[7:])\n",
    "\n",
    "    # print(req_prd_template)\n",
    "    return req_template"
   ]
  },
  {
   "cell_type": "code",
   "execution_count": null,
   "id": "a9fb4497",
   "metadata": {},
   "outputs": [],
   "source": [
    "req_prd=get_template_contents(\".github/ISSUE_TEMPLATE/3_request_prod_environment.md\")\n",
    "req_prd.replace('\"', '\\\\\"')"
   ]
  },
  {
   "cell_type": "code",
   "execution_count": null,
   "id": "08f9a05a",
   "metadata": {},
   "outputs": [],
   "source": [
    "req_tstpln=get_template_contents(\".github/ISSUE_TEMPLATE/2_request_nonprod_environment.md\")\n",
    "req_tstpln.replace('\"', '\\\\\"')"
   ]
  },
  {
   "cell_type": "code",
   "execution_count": null,
   "id": "8b2e7489",
   "metadata": {},
   "outputs": [],
   "source": [
    "from enum import Enum\n",
    "\n",
    "class RequestType(Enum):\n",
    "    Provision = \"provision\"\n",
    "    Deprovision = \"deprovision\"\n",
    "\n",
    "get_req_type = lambda x: RequestType[x] if x in RequestType.__members__ else RequestType(x)\n",
    "\n",
    "def get_enum(typ:type[Enum], v):\n",
    "    try:\n",
    "        if v in typ.__members__:\n",
    "            return typ[v]\n",
    "        return typ(v)\n",
    "    except:\n",
    "        return None\n"
   ]
  },
  {
   "cell_type": "code",
   "execution_count": null,
   "id": "18a5043a",
   "metadata": {},
   "outputs": [],
   "source": [
    "print(get_enum(RequestType, \"provisioN\"))"
   ]
  },
  {
   "cell_type": "code",
   "execution_count": null,
   "id": "ff74f1d6",
   "metadata": {},
   "outputs": [],
   "source": [
    "from datetime import datetime\n",
    "import re\n",
    "from typing import Optional\n",
    "import pytz\n",
    "\n",
    "centraltz = pytz.timezone('US/Central')\n",
    "\n",
    "def get_preferred_datetime(content: Optional[str]):\n",
    "    \"\"\"\n",
    "    Finds date time matching format mm-dd-yyyy hh:MM:SS\n",
    "    converts to central timezone\n",
    "    \"\"\"\n",
    "    try:\n",
    "        if content is not None:\n",
    "            datetime_regex = r\"\\s*(\\d{2}-\\d{2}-\\d{4} \\d{2}:\\d{2}:\\d{2}).*\"\n",
    "            preferred_time_match = re.match(datetime_regex, content)\n",
    "            if preferred_time_match:\n",
    "                preferred_datetime = preferred_time_match.group(1)\n",
    "                preferred_datetime = datetime.strptime(preferred_datetime, \"%m-%d-%Y %H:%M:%S\")\n",
    "                preferred_date_localized = centraltz.localize(preferred_datetime)\n",
    "                preferred_date_obj = preferred_date_localized.astimezone()\n",
    "                return preferred_date_obj\n",
    "    except Exception as e:\n",
    "        print(e)\n",
    "    return None\n"
   ]
  },
  {
   "cell_type": "code",
   "execution_count": null,
   "id": "c4e56df7",
   "metadata": {},
   "outputs": [],
   "source": [
    "from datetime import timedelta\n",
    "\n",
    "dt1=get_preferred_datetime(\" 06-01-2025 12:40:35\")\n",
    "dt2=get_preferred_datetime(\" 05-01-2025 12:40:35 / NA\")\n",
    "\n",
    "if dt1 is not None and dt2 is not None:\n",
    "    time_diff=dt2-dt1\n",
    "    if time_diff < timedelta(hours=1):\n",
    "        print(\"less than 1 hour\", time_diff)\n"
   ]
  },
  {
   "cell_type": "code",
   "execution_count": null,
   "id": "1cfecb7b",
   "metadata": {},
   "outputs": [],
   "source": []
  }
 ],
 "metadata": {
  "kernelspec": {
   "display_name": "Python 3",
   "language": "python",
   "name": "python3"
  },
  "language_info": {
   "codemirror_mode": {
    "name": "ipython",
    "version": 3
   },
   "file_extension": ".py",
   "mimetype": "text/x-python",
   "name": "python",
   "nbconvert_exporter": "python",
   "pygments_lexer": "ipython3",
   "version": "3.11.9"
  }
 },
 "nbformat": 4,
 "nbformat_minor": 5
}
