{
 "cells": [
  {
   "cell_type": "code",
   "execution_count": 13,
   "id": "2fe806f1",
   "metadata": {},
   "outputs": [
    {
     "name": "stdout",
     "output_type": "stream",
     "text": [
      "rootpath= D:\\Projects\\GitHub\\personal-finance\\personal-finance-backend-aws\n"
     ]
    }
   ],
   "source": [
    "from pathlib import Path\n",
    "\n",
    "rootpath=Path(\"../../../\")\n",
    "\n",
    "print(\"rootpath=\",rootpath.resolve())"
   ]
  },
  {
   "cell_type": "code",
   "execution_count": 14,
   "id": "16512f20",
   "metadata": {},
   "outputs": [],
   "source": [
    "def get_template_contents(relative_file_path:str):\n",
    "    req_template=None\n",
    "\n",
    "    with open(rootpath/relative_file_path, \"r\") as rf:\n",
    "        lines=rf.readlines()\n",
    "        req_template=\"\\n\".join(lines[7:])\n",
    "\n",
    "    # print(req_prd_template)\n",
    "    return req_template"
   ]
  },
  {
   "cell_type": "code",
   "execution_count": 15,
   "id": "a9fb4497",
   "metadata": {},
   "outputs": [
    {
     "data": {
      "text/plain": [
       "'# Production Environment Deployment Form\\n\\n\\n\\nThis form standardizes deployment requests for production environment, ensuring clarity and completeness.\\n\\n\\n\\n### Deployment Type:\\n\\n\\n\\n_(Select one option by marking an \"X\" in the corresponding checkbox.)_\\n\\n\\n\\n- [ ] **Release**\\n\\n- [ ] **Rollback**\\n\\n\\n\\n### Release Deployment / Rollback Details:\\n\\n\\n\\n_(Provide details for the release or rollback)_\\n\\n\\n\\n- **Version to Deploy (Release/Rollback):** v0.2.0 <!-- Specify the version for release or rollback deployment. -->\\n\\n- **Existing Deployed Version:** v0.1.0 <!-- Indicate the current production version. -->\\n\\n\\n\\n#### Release Notes\\n\\n\\n\\n_(Provide a link to release notes or specify \"Not Applicable\" for rollbacks)_\\n\\n\\n\\n### Reason for Deployment / Rollback:\\n\\n\\n\\n_(Briefly explan purpose, e.g., feature updates, bug fixes, performance improvements.)_\\n\\n\\n\\n- **Trigger Conditions (for Rollback):** _(Specify conditions initiating rollback, e.g., critical failures detected.)_\\n\\n\\n\\n#### Risk Assessment\\n\\n\\n\\n- **Risk Level:** Low / Medium / High\\n\\n- **Justification for Risk level:** _(Provide reasoning for the chosen risk level.)_\\n\\n\\n\\n### Environment Details:\\n\\n\\n\\n- **Environment Name:** Production Environment\\n\\n\\n\\n### Deployment Schedule:\\n\\n\\n\\n_(Use the format mm-dd-yyyy HH:MM:SS in 24-hour CST time.)_\\n\\n\\n\\n- **Preferred Date and Time:** 03-15-2025 13:40:35\\n\\n\\n\\n### Pre Deployment Validations:\\n\\n\\n\\n_(Checks off tasks to verify readiness for deployment.)_\\n\\n\\n\\n- [ ] Milestone Pull Requests validated\\n\\n- [ ] Regression test plan executed (provide link to test plan)\\n\\n- [ ] All related issues are resolved\\n\\n\\n\\n### Post Deployment Tasks:\\n\\n\\n\\n#### Smoke Test Verification:\\n\\n\\n\\n_(Provide verification tasks to be performed after release deployment / rollback)_\\n\\n\\n\\n- [ ] list of deployed Api gateway resources and methods are in proper status\\n\\n- [ ] Successful login on Desktop Chrome browser v134.x\\n\\n- [ ] Successful login on Android(15) Chrome browser v135.x\\n\\n\\n\\n#### Health Check Verification:\\n\\n\\n\\n_(List manual or automated verification tasks for system health.)_\\n\\n\\n\\n- [ ] Deployment downtime is under one hour\\n\\n- [ ] Rest login api is accessible\\n\\n- [ ] not getting any 5xx errors for rest api\\n\\n\\n\\n### Additional Notes or Special Instructions:\\n\\n\\n\\n_(Include any additional notes, considerations, or requirements, e.g. major upgrade, ensure backups are created)_\\n\\n\\n\\n> [!IMPORTANT]  \\n\\n> If a release deployment fails and a rollback is required, submit a rollback request form as a sub-issue of this request.\\n\\n\\n\\n> [!TIP]  \\n\\n> Update the sub-issue with post-deployment verification results. If failure occurs, include detailed explanations.\\n'"
      ]
     },
     "execution_count": 15,
     "metadata": {},
     "output_type": "execute_result"
    }
   ],
   "source": [
    "req_prd=get_template_contents(\".github/ISSUE_TEMPLATE/request_prod_environment.md\")\n",
    "req_prd"
   ]
  },
  {
   "cell_type": "code",
   "execution_count": 16,
   "id": "5d132165",
   "metadata": {},
   "outputs": [
    {
     "data": {
      "text/plain": [
       "'# Request Form to Provision \\n\\n<!-- OR -->\\n\\n# Request Form to Deprovision\\n\\n\\n\\n## Test Plan Environment for Regression Testing\\n\\n\\n\\n### Test Plan:\\n\\n _(Provide Link to testplan issue)_\\n\\n\\n\\n- Regression Test Plan: <link>\\n\\n\\n\\n### Release Details:\\n\\n_(Provide details for the release or rollback)_\\n\\n\\n\\n- **UI Version:** v0.1.0  <!-- Specify version of UI (milestone title) -->\\n\\n- **API Version:** v0.1.0  <!-- Specify version of API (assigned milestone title) -->\\n\\n\\n\\n### Environment Details:\\n\\n\\n\\n- **Environment Name:** Test Plan Environment\\n\\n\\n\\n### Deployment Schedule:\\n\\n\\n\\n\\n\\n- **Deployment Scope:** API only / UI and API\\n\\n_(Specify Only 1 scope value from allowed list)_\\n\\n\\n\\n- **Preferred Date and Time:** 03-15-2025 13:40:35 \\n\\n_(Use the format mm-dd-yyyy HH:MM:SS in 24-hour CST time.)_\\n\\n\\n\\n### Additional Notes/Special Instructions:\\n\\n\\n\\n<!-- Enter any additional notes or special instructions -->\\n'"
      ]
     },
     "execution_count": 16,
     "metadata": {},
     "output_type": "execute_result"
    }
   ],
   "source": [
    "req_tstpln=get_template_contents(\".github/ISSUE_TEMPLATE/request_testplan_environment.md\")\n",
    "req_tstpln"
   ]
  },
  {
   "cell_type": "code",
   "execution_count": null,
   "id": "8b2e7489",
   "metadata": {},
   "outputs": [],
   "source": []
  }
 ],
 "metadata": {
  "kernelspec": {
   "display_name": "Python 3",
   "language": "python",
   "name": "python3"
  },
  "language_info": {
   "codemirror_mode": {
    "name": "ipython",
    "version": 3
   },
   "file_extension": ".py",
   "mimetype": "text/x-python",
   "name": "python",
   "nbconvert_exporter": "python",
   "pygments_lexer": "ipython3",
   "version": "3.11.9"
  }
 },
 "nbformat": 4,
 "nbformat_minor": 5
}
