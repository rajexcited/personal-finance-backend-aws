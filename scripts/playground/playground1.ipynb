{
 "cells": [
  {
   "cell_type": "code",
   "execution_count": null,
   "metadata": {},
   "outputs": [],
   "source": [
    "# install botocore and boto3\n",
    "# %pip install botocore boto3\n",
    "# %pip install mypy-boto3-iam\n",
    "%pip freeze > requirements.txt"
   ]
  },
  {
   "cell_type": "code",
   "execution_count": null,
   "metadata": {},
   "outputs": [],
   "source": [
    "import boto3\n",
    "import json\n",
    "\n",
    "# Create IAM client\n",
    "iam = boto3.client('iam')\n",
    "\n",
    "# Create a role\n",
    "role_name = 'my-test-role'\n",
    "assume_role_policy_document = {\n",
    "    'Version': '2012-10-17',\n",
    "    'Statement': [\n",
    "        {\n",
    "            'Effect': 'Allow',\n",
    "            'Principal': {\n",
    "                'Service': 'ec2.amazonaws.com'\n",
    "            },\n",
    "            'Action': 'sts:AssumeRole'\n",
    "        }\n",
    "    ]\n",
    "}\n",
    "\n",
    "create_response = iam.create_role(\n",
    "    RoleName=role_name,\n",
    "    AssumeRolePolicyDocument=json.dumps(assume_role_policy_document)\n",
    ")\n",
    "\n",
    "print('Role ARN:', create_response['Role']['Arn'])"
   ]
  },
  {
   "cell_type": "code",
   "execution_count": null,
   "metadata": {},
   "outputs": [],
   "source": [
    "delete_response = iam.delete_role(RoleName=role_name)\n",
    "print('Role deleted, status:', delete_response['ResponseMetadata']['HTTPStatusCode'], \n",
    "      'and requestId: ', delete_response['ResponseMetadata']['RequestId'])"
   ]
  },
  {
   "cell_type": "code",
   "execution_count": null,
   "metadata": {},
   "outputs": [],
   "source": [
    "\n",
    "from pathlib import Path\n",
    "import json\n",
    "\n",
    "print('Project Rootpath: ', rootpath.resolve())\n",
    "\n",
    "trust_file_path=rootpath/Path('cicd-role/trust-relationship.json')\n",
    "print('Trust File Path: ', trust_file_path.resolve())\n",
    "\n",
    "with open(trust_file_path, 'r') as trust_file:\n",
    "    trust_policy = json.load(trust_file)\n",
    "    print(trust_policy)\n",
    "\n",
    "# replace variables in trust policy\n"
   ]
  },
  {
   "cell_type": "code",
   "execution_count": null,
   "metadata": {},
   "outputs": [],
   "source": [
    "from enum import Enum\n",
    "\n",
    "class Environment(Enum):\n",
    "    development = \"dev\"\n",
    "    testplan = \"tpe\"\n",
    "    experiment = \"exp\"\n",
    "    production = \"prd\"\n",
    "\n",
    "env_name = \"development\"\n",
    "\n",
    "if isinstance(env_name, Environment):\n",
    "    print(f\"Environment: {env_name}\")\n",
    "else:\n",
    "    print(\"Invalid Environment\")"
   ]
  },
  {
   "cell_type": "code",
   "execution_count": null,
   "metadata": {},
   "outputs": [],
   "source": [
    "from string import Template\n",
    "from pathlib import Path\n",
    "import json\n",
    "\n",
    "rootpath = Path('../..')\n",
    "\n",
    "def read_json_file_template(file_path: Path) -> Template:\n",
    "    with open(file_path, 'r') as file:\n",
    "        json_content=json.load(file)\n",
    "        return Template(json.dumps(json_content))\n"
   ]
  },
  {
   "cell_type": "code",
   "execution_count": null,
   "metadata": {},
   "outputs": [],
   "source": [
    "cdk_policy_path=rootpath/Path('cicd-role/policies/assume-cdk-policy.json')\n",
    "cdk_policy=read_json_file_template(cdk_policy_path)\n",
    "print(\"cdk policy template variables: \", cdk_policy.get_identifiers())"
   ]
  },
  {
   "cell_type": "code",
   "execution_count": null,
   "metadata": {},
   "outputs": [],
   "source": [
    "cli_policy_path=rootpath/Path('cicd-role/policies/cli-policy.json')\n",
    "cli_policy=read_json_file_template(cli_policy_path)\n",
    "print(\"cli policy template variables: \", cli_policy.get_identifiers())"
   ]
  },
  {
   "cell_type": "code",
   "execution_count": null,
   "metadata": {},
   "outputs": [],
   "source": [
    "inline_policies_dir = rootpath/Path('cicd-role/policies/inline')\n",
    "for inline_policy_path in inline_policies_dir.rglob(\"*.json\"):\n",
    "    inline_policy_name=inline_policy_path.stem\n",
    "    inline_policy_template=read_json_file_template(inline_policy_path)\n",
    "    print(f\"inline policy {inline_policy_name}, template variables: \", inline_policy_template.get_identifiers())\n",
    "    # print(\"is template valid?\", inline_policy_template.is_valid(), 'reason: ', [a for a in inline_policy_template.pattern.finditer(inline_policy_template.template)])\n",
    "    print(inline_policy_template.safe_substitute({'aaws_principal_account': '123456789012'}))\n"
   ]
  },
  {
   "cell_type": "code",
   "execution_count": null,
   "metadata": {},
   "outputs": [],
   "source": [
    "dist_dir = Path(\"dist\")\n",
    "print(\"dist dir: \", dist_dir.resolve(),\" isExists? \", dist_dir.exists())\n",
    "text_file=dist_dir/\"mytext.txt\"\n",
    "print(\"Text File Path:\", text_file.resolve())\n",
    "print([f.resolve() for f in dist_dir.rglob(\"*.txt\")])\n",
    "env_name=\"development\"\n",
    "env=Environment[env_name]\n",
    "print(env_name, env, isinstance(env, Environment), isinstance(env_name, Environment))\n",
    "# print(Environment[Environment[env]])\n",
    "print(\"\".join([s.capitalize() for s in \"api-lambda-policy\".split(\"-\")]))"
   ]
  },
  {
   "cell_type": "code",
   "execution_count": null,
   "metadata": {},
   "outputs": [],
   "source": [
    "import boto3\n",
    "\n",
    "iam = boto3.client(\"iam\")\n",
    "def get_policy(policy_name: str):\n",
    "    get_policy_response = iam.get_policy(\n",
    "            PolicyArn=f\"arn:aws:iam::471112824979:policy/{policy_name}\")\n",
    "\n",
    "    print(get_policy_response)\n",
    "    return get_policy_response"
   ]
  },
  {
   "cell_type": "code",
   "execution_count": null,
   "metadata": {},
   "outputs": [],
   "source": [
    "get_policy(\"CdkApiLambda\")\n",
    "\n",
    "get_policy(\"DummyCdkApiLambda\")\n"
   ]
  },
  {
   "cell_type": "code",
   "execution_count": null,
   "metadata": {},
   "outputs": [],
   "source": [
    "import enum\n",
    "\n",
    "print(type(Environment))\n",
    "print(isinstance(Environment, enum.EnumType))"
   ]
  }
 ],
 "metadata": {
  "kernelspec": {
   "display_name": "Python 3",
   "language": "python",
   "name": "python3"
  },
  "language_info": {
   "codemirror_mode": {
    "name": "ipython",
    "version": 3
   },
   "file_extension": ".py",
   "mimetype": "text/x-python",
   "name": "python",
   "nbconvert_exporter": "python",
   "pygments_lexer": "ipython3",
   "version": "3.11.9"
  }
 },
 "nbformat": 4,
 "nbformat_minor": 2
}
